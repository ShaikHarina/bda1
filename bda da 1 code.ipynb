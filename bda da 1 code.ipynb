{
  "nbformat": 4,
  "nbformat_minor": 0,
  "metadata": {
    "colab": {
      "provenance": [],
      "include_colab_link": true
    },
    "kernelspec": {
      "name": "python3",
      "display_name": "Python 3"
    },
    "language_info": {
      "name": "python"
    }
  },
  "cells": [
    {
      "cell_type": "markdown",
      "metadata": {
        "id": "view-in-github",
        "colab_type": "text"
      },
      "source": [
        "<a href=\"https://colab.research.google.com/github/ShaikHarina/bda1/blob/main/Untitled1.ipynb\" target=\"_parent\"><img src=\"https://colab.research.google.com/assets/colab-badge.svg\" alt=\"Open In Colab\"/></a>"
      ]
    },
    {
      "cell_type": "code",
      "source": [
        "!unzip students.zip"
      ],
      "metadata": {
        "colab": {
          "base_uri": "https://localhost:8080/"
        },
        "id": "MoBiY4t4pmKf",
        "outputId": "4f753c51-5faf-4d23-c908-e61cd75e7840"
      },
      "execution_count": null,
      "outputs": [
        {
          "output_type": "stream",
          "name": "stdout",
          "text": [
            "Archive:  students.zip\n",
            "  inflating: best_student_performance_model.pkl  \n",
            "  inflating: st.ipynb                \n",
            "  inflating: student_performance.csv  \n"
          ]
        }
      ]
    },
    {
      "cell_type": "code",
      "execution_count": null,
      "metadata": {
        "colab": {
          "base_uri": "https://localhost:8080/"
        },
        "id": "peXd2TzroYYn",
        "outputId": "2c9a1bfe-1bee-4303-ff96-f302d959e0d2"
      },
      "outputs": [
        {
          "output_type": "stream",
          "name": "stdout",
          "text": [
            "Students with AttendanceRate < 90, FinalGrade > 80, and Medium ParentalSupport: ['Emma']\n"
          ]
        }
      ],
      "source": [
        "import multiprocessing\n",
        "import pandas as pd\n",
        "\n",
        "# Define the map function\n",
        "def map_func(record):\n",
        "    # Initialize the result as None (if the conditions are not met)\n",
        "    result = None\n",
        "\n",
        "    # Apply the conditions\n",
        "    if (record['AttendanceRate'] < 90 and\n",
        "        record['FinalGrade'] > 80 and\n",
        "        record['ParentalSupport'] == 'Medium'):\n",
        "        # If the conditions are met, return the student's name\n",
        "        result = record['Name']\n",
        "\n",
        "    return result\n",
        "\n",
        "# Define the reduce function\n",
        "def reduce_func(pairs):\n",
        "    # Filter out None values from the map phase\n",
        "    valid_students = [student for student in pairs if student is not None]\n",
        "    return valid_students\n",
        "\n",
        "# Main function to run the MapReduce job\n",
        "if __name__ == \"__main__\":\n",
        "    # Load the dataset (adjust the file path as needed)\n",
        "    df = pd.read_csv('/content/student_performance.csv')  # Adjust to your CSV file path\n",
        "\n",
        "    # Set up a multiprocessing pool for the Map phase\n",
        "    with multiprocessing.Pool() as pool:\n",
        "        # Apply map_func to each record in parallel\n",
        "        data_map = pool.map(map_func, df.to_dict(orient='records'))\n",
        "\n",
        "    # Perform the Reduce phase to aggregate results\n",
        "    valid_students = reduce_func(data_map)\n",
        "\n",
        "    # Print the final result (list of student names)\n",
        "    print(f\"Students with AttendanceRate < 90, FinalGrade > 80, and Medium ParentalSupport: {valid_students}\")\n"
      ]
    }
  ]
}
